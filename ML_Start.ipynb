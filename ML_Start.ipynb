{
 "cells": [
  {
   "cell_type": "markdown",
   "id": "3d937e7d",
   "metadata": {},
   "source": [
    "## TOC\n",
    "* [Target Dependence](#target-dependence)\n",
    "* [Data Preprocessing](#data-preprocessing)\n",
    "* [First Bullet Header](#first-bullet)\n",
    "* [Fit the Model](#fit-model)\n",
    "* [Single Target Classifier](#single-class)"
   ]
  },
  {
   "cell_type": "markdown",
   "id": "d7d8ad53",
   "metadata": {},
   "source": [
    "## First Bullet Header <a class=\"anchor\" id=\"first-bullet\"></a>"
   ]
  },
  {
   "cell_type": "code",
   "execution_count": 1,
   "id": "c8a893b1-c1a6-4195-9187-52f4943c3ea8",
   "metadata": {},
   "outputs": [
    {
     "name": "stderr",
     "output_type": "stream",
     "text": [
      "/tmp/ipykernel_102629/1261883196.py:8: DtypeWarning: Columns (25,35,40,42,48) have mixed types. Specify dtype option on import or set low_memory=False.\n",
      "  data = pd.read_csv(data_file_path)\n"
     ]
    }
   ],
   "source": [
    "from pathlib import Path\n",
    "import numpy as np\n",
    "import pandas as pd\n",
    "\n",
    "project_root = Path().absolute()\n",
    "data_folder = project_root / 'data'\n",
    "data_file_path = data_folder / 'conneticut_wide_form.csv'\n",
    "data = pd.read_csv(data_file_path)\n",
    "\n",
    "data['date'] = pd.to_datetime(data['date'])\n",
    "data['age'] = pd.to_numeric(data['age'])"
   ]
  },
  {
   "cell_type": "code",
   "execution_count": 2,
   "id": "0d5e68bd",
   "metadata": {},
   "outputs": [],
   "source": [
    "def print_missing_values_percent(data):\n",
    "    data_missing_values = data.isnull().sum()\n",
    "    missing_values_percentage = (data_missing_values / len(data)) * 100\n",
    "    missing_values_percentage.sort_values(inplace=True)\n",
    "\n",
    "    for index, value in missing_values_percentage.items():\n",
    "        print(str(index) + ': ' + str(np.round(value, decimals=2)) + '%')"
   ]
  },
  {
   "cell_type": "code",
   "execution_count": 3,
   "id": "29fd41de",
   "metadata": {},
   "outputs": [
    {
     "name": "stdout",
     "output_type": "stream",
     "text": [
      "CaseIdentifier: 0.0%\n",
      "__id: 0.0%\n",
      "date: 0.0%\n",
      "datetype: 0.0%\n",
      "cod: 0.0%\n",
      "death_day: 0.0%\n",
      "death_month: 0.0%\n",
      "death_month_num: 0.0%\n",
      "death_day_is_weekend: 0.0%\n",
      "death_day_of_week: 0.0%\n",
      "death_year: 0.0%\n",
      "death_day_week_of_year: 0.0%\n",
      "deathcitygeo: 0.01%\n",
      "deathcitygeo_state: 0.01%\n",
      "age: 0.02%\n",
      "mannerofdeath: 0.08%\n",
      "sex: 0.08%\n",
      "race: 0.48%\n",
      "residencecitygeo: 1.39%\n",
      "residencecitygeo_state: 1.39%\n",
      "injurycity: 1.49%\n",
      "injurycitygeo: 2.15%\n",
      "injurycitygeo_state: 2.15%\n",
      "cod_matched: 2.95%\n",
      "drug_meta: 2.96%\n",
      "injuryplace: 2.99%\n",
      "injurycitygeo_city: 3.63%\n",
      "residencecity: 4.97%\n",
      "residencecitygeo_city: 6.37%\n",
      "descriptionofinjury: 6.74%\n",
      "opiate_meta: 10.0%\n",
      "residencecounty: 10.52%\n",
      "location: 11.26%\n",
      "residencestate: 16.59%\n",
      "deathcity: 23.24%\n",
      "deathcitygeo_city: 23.25%\n",
      "injurystate: 25.28%\n",
      "anyopioid: 25.32%\n",
      "injurycounty: 27.83%\n",
      "deathcounty: 32.48%\n",
      "fentanyl: 32.82%\n",
      "fentanyl_meta: 33.34%\n",
      "fentanyl.1: 33.45%\n",
      "death_state: 42.63%\n",
      "nonfentanyl_opioid_meta: 51.69%\n",
      "stimulant_meta: 60.49%\n",
      "cocaine: 61.79%\n",
      "cocaine.1: 65.23%\n",
      "heroin: 70.14%\n",
      "sedative_meta: 71.45%\n",
      "ethanol: 73.28%\n",
      "eth_alc_meta: 73.57%\n",
      "heroin.1: 73.97%\n",
      "benzodiazepine: 77.32%\n",
      "ethnicity: 78.59%\n",
      "benzo_meta: 79.28%\n",
      "heroin_morph_codeine: 81.62%\n",
      "ethanol.1: 84.14%\n",
      "alcohol: 89.43%\n",
      "othersignifican: 89.99%\n",
      "locationifother: 90.03%\n",
      "xylazine.1: 90.43%\n",
      "alprazolam: 90.93%\n",
      "fen_analog_meta: 90.98%\n",
      "xylazine: 91.0%\n",
      "methadone: 91.0%\n",
      "methadone.1: 91.34%\n",
      "oxycodone: 91.52%\n",
      "fentanylanalogue: 91.87%\n",
      "oxycodone.1: 92.21%\n",
      "anti-depressant_meta: 92.27%\n",
      "clonazepam: 92.92%\n",
      "other: 93.44%\n",
      "heroin_dc: 93.82%\n",
      "acetyl: 94.48%\n",
      "morphine: 95.99%\n",
      "gabapentin: 96.09%\n",
      "diazepam: 96.35%\n",
      "amphet: 96.4%\n",
      "amphetamine: 96.83%\n",
      "toxic_meta: 97.15%\n",
      "trazodone: 97.17%\n",
      "hallucinogen_meta: 97.3%\n",
      "tramadol: 97.33%\n",
      "despropionyl: 97.36%\n",
      "tramad: 97.48%\n",
      "cyclobenzaprine: 97.71%\n",
      "phencyclidine: 97.71%\n",
      "buprenorphine: 97.85%\n",
      "bupropion: 98.0%\n",
      "citalopram: 98.05%\n",
      "other_opioid: 98.15%\n",
      "cocaethylene: 98.26%\n",
      "lorazepam: 98.39%\n",
      "methamphetamine: 98.47%\n",
      "escitalopram: 98.52%\n",
      "hydrocodone: 98.59%\n",
      "oxymorphone: 98.65%\n",
      "fluoxetine: 98.73%\n",
      "hydrocodone.1: 98.81%\n",
      "topiramate: 98.83%\n",
      "hydromorphone.1: 98.85%\n",
      "oxymorphone.1: 98.9%\n",
      "meth_amphetamine: 98.94%\n",
      "opiate: 98.94%\n",
      "benzodiazepine.1: 98.94%\n",
      "opiatenos: 98.94%\n",
      "mitragynine: 99.01%\n",
      "hydromorphone: 99.36%\n",
      "opioid: 99.37%\n",
      "methorphan: 99.45%\n",
      "chlordiazepoxide: 99.46%\n",
      "morphine_notheroin: 99.51%\n",
      "temazepam: 99.53%\n",
      "carisoprodol: 99.62%\n",
      "codeine: 99.63%\n",
      "para-fluorobutyryl: 99.68%\n",
      "dextromethorphan: 99.68%\n",
      "furanyl: 99.7%\n",
      "oxazepam: 99.75%\n",
      "u-47700: 99.77%\n",
      "ketamine: 99.78%\n",
      "methylphenidate: 99.79%\n",
      "methocarbamol: 99.82%\n",
      "dextrorphan: 99.85%\n",
      "methylenedioxymethamphetamine: 99.85%\n",
      "carfentanil: 99.86%\n",
      "mdma: 99.87%\n",
      "levorphanol: 99.87%\n",
      "valeryl: 99.88%\n",
      "nitazene_meta: 99.89%\n",
      "dihydrocodeine: 99.92%\n",
      "protonitazene: 99.92%\n",
      "phentermine: 99.93%\n",
      "fibf: 99.93%\n",
      "butyryl: 99.93%\n",
      "tarpentadol: 99.94%\n",
      "hypoxia_meta: 99.95%\n",
      "hydroxybupropion: 99.96%\n",
      "cyclopropyl: 99.96%\n",
      "ischemic: 99.96%\n",
      "metonitazene: 99.96%\n",
      "mda: 99.96%\n",
      "methoxyacetyl: 99.96%\n",
      "hydrocodol: 99.97%\n",
      "metaxalone: 99.97%\n",
      "lysergic: 99.97%\n",
      "lsd: 99.97%\n",
      "flurazepam: 99.97%\n",
      "norfluoxetine: 99.97%\n",
      "meperidine: 99.97%\n",
      "fluorobutyryl: 99.98%\n",
      "covid_meta: 99.98%\n",
      "covid-19: 99.98%\n",
      "coronavirus: 99.98%\n",
      "pcp: 99.98%\n",
      "norfentanyl: 99.99%\n",
      "marijuana: 99.99%\n",
      "barbiturates: 99.99%\n",
      "cathinone: 99.99%\n",
      "anpp: 99.99%\n",
      "tizanidine: 99.99%\n",
      "estazolam: 99.99%\n",
      "hypoxic: 99.99%\n",
      "isotonitazene: 99.99%\n",
      "triazolam: 99.99%\n",
      "cannabis_meta: 99.99%\n",
      "injurycitygeo_zip: 100.0%\n",
      "residencecitygeo_address: 100.0%\n",
      "residencecitygeo_zip: 100.0%\n",
      "deathcitygeo_zip: 100.0%\n",
      "deathcitygeo_address: 100.0%\n",
      "injurycitygeo_address: 100.0%\n"
     ]
    }
   ],
   "source": [
    "print_missing_values_percent(data)"
   ]
  },
  {
   "cell_type": "code",
   "execution_count": 4,
   "id": "f588a99b",
   "metadata": {},
   "outputs": [],
   "source": [
    "# cocaine.1 is the first meta_drug column added via pipeline\n",
    "# comparison of cocaine (official) vs cocaine.1 (meta) shows similar missing entries, so the meta columns will be dropped\n",
    "first_column_to_drop_index = data.columns.get_loc('cocaine.1')\n",
    "data_no_meta_columns = data.iloc[:, :first_column_to_drop_index]"
   ]
  },
  {
   "cell_type": "markdown",
   "id": "06f8500e",
   "metadata": {},
   "source": [
    "## Are Target Variables Dependent? <a class=\"anchor\" id=\"target-dependence\"></a>"
   ]
  },
  {
   "cell_type": "code",
   "execution_count": 5,
   "id": "c77371a3",
   "metadata": {},
   "outputs": [],
   "source": [
    "# See what target labels are most common.\n",
    "# For the present data set, this is the first column. In the future a more programmatic way would be helpful to find the first column.\n",
    "# I choose not to use the meta columns fo simplicity.\n",
    "\n",
    "# first_drug_column = 'heroin' \n",
    "# first_drug_column_index = data.columns.get_loc(first_drug_column)\n",
    "# last_drug_column = ''\n",
    "# last_drug_column_index = data.columns.get_loc(last_drug_column)\n",
    "# target_df = data.iloc[:, first_drug_column_index:last_drug_column_index]\n",
    "# print_missing_values_percent(target_df)"
   ]
  },
  {
   "cell_type": "code",
   "execution_count": 6,
   "id": "edeacb93",
   "metadata": {},
   "outputs": [],
   "source": [
    "# target_df = target_df.fillna(0)"
   ]
  },
  {
   "cell_type": "code",
   "execution_count": 7,
   "id": "387f9907",
   "metadata": {},
   "outputs": [],
   "source": [
    "# see if target labels are correlated to determine what model to use\n",
    "\n",
    "# target_correlation_matrix = target_df.corr()\n",
    "# import seaborn as sns\n",
    "# import matplotlib.pyplot as plt\n",
    "# sns.heatmap(target_correlation_matrix, annot=False, cmap=\"coolwarm\")\n",
    "# plt.show()"
   ]
  },
  {
   "cell_type": "code",
   "execution_count": 8,
   "id": "c80573a0",
   "metadata": {},
   "outputs": [],
   "source": [
    "# high_correlation_threshold = 0.5\n",
    "# high_correlation_pairs = target_correlation_matrix[(target_correlation_matrix > high_correlation_threshold) | (target_correlation_matrix < -high_correlation_threshold)].stack()\n",
    "# high_correlation_df = high_correlation_pairs.reset_index()\n",
    "# high_correlation_df.columns = ['variable1', 'variable2', 'correlation']\n",
    "# high_correlation_df = high_correlation_df[high_correlation_df['variable1'] != high_correlation_df['variable2']]\n",
    "# print(high_correlation_df)"
   ]
  },
  {
   "cell_type": "markdown",
   "id": "510987df",
   "metadata": {},
   "source": [
    "The target features that have strong correlation are to be expected. For example, cocaine and stimulant_meta are expected to be correlated because cocaine is a stimulant."
   ]
  },
  {
   "cell_type": "code",
   "execution_count": 9,
   "id": "66b35f95",
   "metadata": {},
   "outputs": [],
   "source": [
    "# pick the top 3 most common causes of death that aren't a meta/general category (e.g. stimulant_meta)\n",
    "\n",
    "# top3_target_df = target_df[['cocaine.1', 'heroin.1', 'fentanyl.1']]\n",
    "# top3_target_correlation = top3_target_df.corr()\n",
    "# top3_target_correlation"
   ]
  },
  {
   "cell_type": "markdown",
   "id": "2ecf66e8",
   "metadata": {},
   "source": [
    "## Data Preprocessing <a class=\"anchor\" id=\"data-preprocessing\"></a>"
   ]
  },
  {
   "cell_type": "code",
   "execution_count": 10,
   "id": "20390731-0bcd-494a-8667-e07daca15758",
   "metadata": {},
   "outputs": [
    {
     "name": "stdout",
     "output_type": "stream",
     "text": [
      "CaseIdentifier: 0.0%\n",
      "__id: 0.0%\n",
      "date: 0.0%\n",
      "datetype: 0.0%\n",
      "cod: 0.0%\n",
      "death_day: 0.0%\n",
      "death_month: 0.0%\n",
      "death_month_num: 0.0%\n",
      "death_day_is_weekend: 0.0%\n",
      "death_day_of_week: 0.0%\n",
      "death_year: 0.0%\n",
      "death_day_week_of_year: 0.0%\n",
      "deathcitygeo: 0.01%\n",
      "deathcitygeo_state: 0.01%\n",
      "age: 0.02%\n",
      "mannerofdeath: 0.08%\n",
      "sex: 0.08%\n",
      "race: 0.48%\n",
      "residencecitygeo: 1.39%\n",
      "residencecitygeo_state: 1.39%\n",
      "injurycity: 1.49%\n",
      "injurycitygeo: 2.15%\n",
      "injurycitygeo_state: 2.15%\n",
      "injuryplace: 2.99%\n",
      "injurycitygeo_city: 3.63%\n",
      "residencecity: 4.97%\n",
      "residencecitygeo_city: 6.37%\n",
      "descriptionofinjury: 6.74%\n",
      "residencecounty: 10.52%\n",
      "location: 11.26%\n",
      "residencestate: 16.59%\n",
      "deathcity: 23.24%\n",
      "deathcitygeo_city: 23.25%\n",
      "injurystate: 25.28%\n",
      "anyopioid: 25.32%\n",
      "injurycounty: 27.83%\n",
      "deathcounty: 32.48%\n",
      "fentanyl: 32.82%\n",
      "death_state: 42.63%\n",
      "cocaine: 61.79%\n",
      "heroin: 70.14%\n",
      "ethanol: 73.28%\n",
      "benzodiazepine: 77.32%\n",
      "ethnicity: 78.59%\n",
      "heroin_morph_codeine: 81.62%\n",
      "othersignifican: 89.99%\n",
      "locationifother: 90.03%\n",
      "xylazine: 91.0%\n",
      "methadone: 91.0%\n",
      "oxycodone: 91.52%\n",
      "fentanylanalogue: 91.87%\n",
      "other: 93.44%\n",
      "heroin_dc: 93.82%\n",
      "gabapentin: 96.09%\n",
      "amphet: 96.4%\n",
      "tramad: 97.48%\n",
      "other_opioid: 98.15%\n",
      "hydrocodone: 98.59%\n",
      "oxymorphone: 98.65%\n",
      "opiatenos: 98.94%\n",
      "meth_amphetamine: 98.94%\n",
      "hydromorphone: 99.36%\n",
      "morphine_notheroin: 99.51%\n",
      "deathcitygeo_zip: 100.0%\n",
      "injurycitygeo_zip: 100.0%\n",
      "injurycitygeo_address: 100.0%\n",
      "residencecitygeo_zip: 100.0%\n",
      "residencecitygeo_address: 100.0%\n",
      "deathcitygeo_address: 100.0%\n"
     ]
    }
   ],
   "source": [
    "# features_df = data.iloc[:, :first_drug_column_index]\n",
    "print_missing_values_percent(data_no_meta_columns)"
   ]
  },
  {
   "cell_type": "markdown",
   "id": "9ddb7de2",
   "metadata": {},
   "source": [
    "Since a small (less than 1%) amount of data is missing either age or sex, just drop the entries missing these variables. Also, drop any columns that are completely empty."
   ]
  },
  {
   "cell_type": "code",
   "execution_count": 11,
   "id": "f2b3fa2a-5ecd-4d28-a5f1-0c4406150848",
   "metadata": {},
   "outputs": [],
   "source": [
    "data_no_meta_columns = data_no_meta_columns.dropna(subset=['sex', 'race'])\n",
    "data_no_meta_columns = data_no_meta_columns.dropna(axis=1, how='all')"
   ]
  },
  {
   "cell_type": "code",
   "execution_count": 12,
   "id": "61407e5c-7e72-479d-b33f-f1f3981d92ba",
   "metadata": {},
   "outputs": [
    {
     "name": "stdout",
     "output_type": "stream",
     "text": [
      "CaseIdentifier: 0.0%\n",
      "__id: 0.0%\n",
      "date: 0.0%\n",
      "datetype: 0.0%\n",
      "sex: 0.0%\n",
      "race: 0.0%\n",
      "cod: 0.0%\n",
      "death_day_of_week: 0.0%\n",
      "death_month: 0.0%\n",
      "death_year: 0.0%\n",
      "death_day_is_weekend: 0.0%\n",
      "death_day_week_of_year: 0.0%\n",
      "death_day: 0.0%\n",
      "death_month_num: 0.0%\n",
      "deathcitygeo_state: 0.01%\n",
      "age: 0.01%\n",
      "deathcitygeo: 0.01%\n",
      "mannerofdeath: 0.08%\n",
      "residencecitygeo_state: 1.4%\n",
      "residencecitygeo: 1.4%\n",
      "injurycity: 1.49%\n",
      "injurycitygeo: 2.13%\n",
      "injurycitygeo_state: 2.13%\n",
      "injuryplace: 3.0%\n",
      "injurycitygeo_city: 3.62%\n",
      "residencecity: 4.85%\n",
      "residencecitygeo_city: 6.25%\n",
      "descriptionofinjury: 6.77%\n",
      "residencecounty: 10.39%\n",
      "location: 11.08%\n",
      "residencestate: 16.5%\n",
      "deathcity: 23.06%\n",
      "deathcitygeo_city: 23.07%\n",
      "injurystate: 25.34%\n",
      "anyopioid: 25.38%\n",
      "injurycounty: 27.9%\n",
      "deathcounty: 32.32%\n",
      "fentanyl: 32.85%\n",
      "death_state: 42.52%\n",
      "cocaine: 61.89%\n",
      "heroin: 70.03%\n",
      "ethanol: 73.28%\n",
      "benzodiazepine: 77.32%\n",
      "ethnicity: 78.6%\n",
      "heroin_morph_codeine: 81.56%\n",
      "othersignifican: 90.01%\n",
      "locationifother: 90.03%\n",
      "methadone: 91.0%\n",
      "xylazine: 91.03%\n",
      "oxycodone: 91.5%\n",
      "fentanylanalogue: 91.86%\n",
      "other: 93.5%\n",
      "heroin_dc: 93.8%\n",
      "gabapentin: 96.08%\n",
      "amphet: 96.39%\n",
      "tramad: 97.47%\n",
      "other_opioid: 98.2%\n",
      "hydrocodone: 98.61%\n",
      "oxymorphone: 98.65%\n",
      "meth_amphetamine: 98.93%\n",
      "opiatenos: 98.94%\n",
      "hydromorphone: 99.35%\n",
      "morphine_notheroin: 99.5%\n"
     ]
    }
   ],
   "source": [
    "print_missing_values_percent(data_no_meta_columns)"
   ]
  },
  {
   "cell_type": "markdown",
   "id": "34da2608",
   "metadata": {},
   "source": [
    "Clean up the 'sex' feature values next."
   ]
  },
  {
   "cell_type": "code",
   "execution_count": 13,
   "id": "454f9466-782b-4923-8165-c7dc115005f7",
   "metadata": {},
   "outputs": [
    {
     "name": "stdout",
     "output_type": "stream",
     "text": [
      "unique values for 'sex' column original: ['Male' 'Female' 'Unknown' 'X']\n"
     ]
    }
   ],
   "source": [
    "print(f\"unique values for 'sex' column original: {data_no_meta_columns['sex'].unique()}\")\n",
    "data_no_meta_columns = data_no_meta_columns[~data_no_meta_columns['sex'].isin(['Unknown', 'X'])]\n",
    "data_no_meta_columns['sex_encoded'] = data_no_meta_columns['sex'].map({'Male': 0, 'Female': 1})\n",
    "columns_received_encoding = ['sex']"
   ]
  },
  {
   "cell_type": "code",
   "execution_count": 14,
   "id": "aa1172c8-8d1e-4efd-9f3b-f2c011428c6a",
   "metadata": {},
   "outputs": [],
   "source": [
    "non_empty_counts_df = data_no_meta_columns.count()\n",
    "non_empty_counts_df = non_empty_counts_df.reset_index()\n",
    "non_empty_counts_df.to_csv('non_empty_counts.csv', index=False)"
   ]
  },
  {
   "cell_type": "code",
   "execution_count": 15,
   "id": "09ed29b6",
   "metadata": {},
   "outputs": [
    {
     "data": {
      "text/plain": [
       "(7593,)"
      ]
     },
     "execution_count": 15,
     "metadata": {},
     "output_type": "execute_result"
    }
   ],
   "source": [
    "cod_counts = data_no_meta_columns['cod'].value_counts()\n",
    "cod_counts.shape"
   ]
  },
  {
   "cell_type": "markdown",
   "id": "78e0aa39",
   "metadata": {},
   "source": [
    "There are 7000+ unique causes of death, for approximately 12,000 data points. So my plan to use this as a categorical variable will not happen because there are almost as many categories as observations (same order of magnitude)"
   ]
  },
  {
   "cell_type": "markdown",
   "id": "d9e521f0",
   "metadata": {},
   "source": [
    "Use geojson to group observations into Connecticut counties. Although this data already has columns for county (injurycounty and deathcounty), these columns are not well populated. So we take advantage of the fact that injurycitygeo and deathcitygeo are reliably populated and do a spatial join with the known geographical boundaries of the counties of Connecticut.\n",
    "\n",
    "From examination, we see that we should use injurycitygeo over deathcitygeo because for recent years of deathcitygeo, observations were all assigned the same value. This is likely error in how the data was entered."
   ]
  },
  {
   "cell_type": "code",
   "execution_count": 16,
   "id": "333b844d",
   "metadata": {},
   "outputs": [
    {
     "name": "stdout",
     "output_type": "stream",
     "text": [
      "unique geo locations for injury city by year: death_year\n",
      "2012    106\n",
      "2013    118\n",
      "2014    136\n",
      "2015    141\n",
      "2016    144\n",
      "2017    156\n",
      "2018    154\n",
      "2019    164\n",
      "2020    143\n",
      "2021    164\n",
      "2022    153\n",
      "2023    142\n",
      "Name: injurycitygeo, dtype: int64\n",
      "\n",
      "unique geo locations for death city by year: death_year\n",
      "2012     92\n",
      "2013     93\n",
      "2014    116\n",
      "2015    131\n",
      "2016    129\n",
      "2017    141\n",
      "2018    140\n",
      "2019    148\n",
      "2020    132\n",
      "2021    151\n",
      "2022      1\n",
      "2023      1\n",
      "Name: deathcitygeo, dtype: int64\n"
     ]
    }
   ],
   "source": [
    "locations_year_df = data_no_meta_columns[['death_year','injurycitygeo', 'deathcitygeo']]\n",
    "yearly_injurycitygeo_counts = locations_year_df.groupby('death_year')['injurycitygeo'].nunique()\n",
    "print(f\"unique geo locations for injury city by year: {yearly_injurycitygeo_counts}\")\n",
    "yearly_deathcitygeo_counts = locations_year_df.groupby('death_year')['deathcitygeo'].nunique()\n",
    "print(f\"\\nunique geo locations for death city by year: {yearly_deathcitygeo_counts}\")"
   ]
  },
  {
   "cell_type": "code",
   "execution_count": 17,
   "id": "c87a96dd",
   "metadata": {},
   "outputs": [
    {
     "name": "stdout",
     "output_type": "stream",
     "text": [
      "Index(['date', 'age', 'sex', 'race', 'ethnicity', 'heroin', 'heroin_dc',\n",
      "       'cocaine', 'fentanyl', 'fentanylanalogue', 'oxycodone', 'oxymorphone',\n",
      "       'ethanol', 'hydrocodone', 'benzodiazepine', 'methadone',\n",
      "       'meth_amphetamine', 'amphet', 'tramad', 'hydromorphone',\n",
      "       'morphine_notheroin', 'xylazine', 'gabapentin', 'opiatenos',\n",
      "       'heroin_morph_codeine', 'other_opioid', 'anyopioid', 'death_day',\n",
      "       'death_month_num', 'death_year', 'death_day_of_week',\n",
      "       'death_day_is_weekend', 'death_day_week_of_year', 'sex_encoded', 'lon',\n",
      "       'lat', 'COUNTY_Fairfield', 'COUNTY_Hartford', 'COUNTY_Litchfield',\n",
      "       'COUNTY_Middlesex', 'COUNTY_New Haven', 'COUNTY_New London',\n",
      "       'COUNTY_Tolland', 'COUNTY_Windham'],\n",
      "      dtype='object')\n"
     ]
    }
   ],
   "source": [
    "import geopandas as gpd\n",
    "from shapely.geometry import shape\n",
    "import json\n",
    "\n",
    "counties_geojson_file_path = data_folder / 'CT_Counties.geojson'\n",
    "geolocation_column_name = 'injurycitygeo'\n",
    "\n",
    "data_no_meta_columns = data_no_meta_columns.dropna(subset=geolocation_column_name)\n",
    "data_no_meta_columns.loc[:, geolocation_column_name] = data_no_meta_columns[geolocation_column_name].str.replace(\"'\", '\"')\n",
    "data_no_meta_columns['geometry'] = data_no_meta_columns[geolocation_column_name].apply(lambda x: shape(json.loads(x)))\n",
    "death_geodata = gpd.GeoDataFrame(data_no_meta_columns, geometry='geometry', crs=4326)\n",
    "\n",
    "# CT counties geodata\n",
    "with open(counties_geojson_file_path, 'r') as f:\n",
    "    counties_geojson = json.load(f)\n",
    "counties_gdf = gpd.read_file(counties_geojson_file_path)\n",
    "\n",
    "county_geometry_gdf = counties_gdf[['COUNTY', 'geometry']]\n",
    "\n",
    "joined_data_county_gdf = gpd.sjoin(death_geodata, county_geometry_gdf, how='left', predicate='within')\n",
    "joined_data_county_gdf['lon'] = joined_data_county_gdf.geometry.x\n",
    "joined_data_county_gdf['lat'] = joined_data_county_gdf.geometry.y\n",
    "\n",
    "# encode counties\n",
    "joined_data_county_gdf = pd.get_dummies(joined_data_county_gdf, columns=['COUNTY'], dtype=int)\n",
    "\n",
    "# drop extraneous columns that likely have little predictive value based on intuition\n",
    "joined_data_county_gdf = joined_data_county_gdf.drop(columns=['datetype', 'index_right', 'geometry', 'CaseIdentifier', '__id', 'death_month'])\n",
    "joined_data_county_gdf = joined_data_county_gdf.drop(columns=['injuryplace',\n",
    "                                                              'descriptionofinjury', \n",
    "                                                              'location', # location could be good to use in future - omitted for simplicity\n",
    "                                                              'locationifother',\n",
    "                                                              'mannerofdeath',\n",
    "                                                              'othersignifican',\n",
    "                                                              'cod',\n",
    "                                                              'other'\n",
    "                                                    ])\n",
    "\n",
    "# we have latitude and longitude, as well as county, so these columns are redundant and likely correlated\n",
    "column_drop_keywords = ['residence', 'state', 'county', 'city']\n",
    "columns_to_drop = [col for col in joined_data_county_gdf.columns if any(keyword in col for keyword in column_drop_keywords) and 'ethnicity' not in col]\n",
    "joined_data_county_gdf = joined_data_county_gdf.drop(columns=columns_to_drop)\n",
    "print(joined_data_county_gdf.columns)"
   ]
  },
  {
   "cell_type": "code",
   "execution_count": 18,
   "id": "6cba05a5",
   "metadata": {},
   "outputs": [],
   "source": [
    "# print(joined_data_county_gdf['injuryplace'].value_counts()) # this is mostly values like home and residence as top 2 most common values, then other is third which isn't helpful.\n",
    "# print(joined_data_county_gdf['descriptionofinjury'].value_counts()) # this is mostly values like substance abuse, drug use, other descriptions we already know.\n",
    "# print(joined_data_county_gdf['location'].value_counts()) # this looks usable, it is a good mix of Residence and Hospital. *NOTE: I still exclude this for simplicity.\n",
    "# print(joined_data_county_gdf['mannerofdeath'].value_counts()) # this is almost all values of accident.\n",
    "# print(joined_data_county_gdf['cod'].value_counts()) # there are too many free text variations, and they don't add new info to the discrete drug columns.\n"
   ]
  },
  {
   "cell_type": "markdown",
   "id": "c8d184fa",
   "metadata": {},
   "source": [
    "**Note**: In the future it would be interesting to apply methods to make use of free-text in certain columns. But for now, we are going to ignore them for simplicity and the assumption they don't add new information. For example, descriptionofinjury saying 'ingested prescription medication' doesn't add new information when we have columns for the presence of specific drugs."
   ]
  },
  {
   "cell_type": "markdown",
   "id": "d1093083",
   "metadata": {},
   "source": [
    "Pre-process age by normalizing."
   ]
  },
  {
   "cell_type": "code",
   "execution_count": 19,
   "id": "523b4f42",
   "metadata": {},
   "outputs": [],
   "source": [
    "# from sklearn.preprocessing import MinMaxScaler\n",
    "# age_scaler = MinMaxScaler()\n",
    "# joined_data_county_gdf['age_normalized'] = age_scaler.fit_transform(joined_data_county_gdf[['age']])\n",
    "# columns_received_encoding.append('age')"
   ]
  },
  {
   "cell_type": "markdown",
   "id": "47793431",
   "metadata": {},
   "source": [
    "Pre-process ethnicity."
   ]
  },
  {
   "cell_type": "code",
   "execution_count": 20,
   "id": "5bf968ba",
   "metadata": {},
   "outputs": [
    {
     "data": {
      "text/plain": [
       "ethnicity\n",
       "Hispanic                                        949\n",
       "No, not Spanish/Hispanic/Latino                 723\n",
       "Spanish/Hispanic/Latino                         261\n",
       "Other Spanish/Hispanic/Latino                   240\n",
       "Yes, other Spanish/Hispanic/Latino              189\n",
       "Not Spanish/Hispanic/Latino                      50\n",
       "Yes, Other Spanish/Hispanic/Latino (Specify)     24\n",
       "Puerto Rican                                     19\n",
       "Unknown                                          15\n",
       "Yes, Puerto Rican                                10\n",
       "Yes, Mexican, Mexican American, Chicano           6\n",
       "Mexican, Mexican American, Chicano                4\n",
       "Cuban                                             2\n",
       "Name: count, dtype: int64"
      ]
     },
     "execution_count": 20,
     "metadata": {},
     "output_type": "execute_result"
    }
   ],
   "source": [
    "joined_data_county_gdf['ethnicity'].value_counts()"
   ]
  },
  {
   "cell_type": "code",
   "execution_count": 21,
   "id": "dc60e923",
   "metadata": {},
   "outputs": [],
   "source": [
    "def classify_not_hispanic_latino(ethnicity):\n",
    "    # this assumes all possible values for non-hispanic/latino contain 'not'\n",
    "    if (not isinstance(ethnicity, str)) or ('not'.lower() in ethnicity.lower()):\n",
    "        return 0\n",
    "    else:\n",
    "        return 1"
   ]
  },
  {
   "cell_type": "markdown",
   "id": "511ad97a",
   "metadata": {},
   "source": [
    "In this dataset, all ethnicity values that represent a person not being hispanic/latino contain the word 'not', so the ethnicity column will be used to create a new hispanic/latino column (1 if yes, 0 if no)"
   ]
  },
  {
   "cell_type": "code",
   "execution_count": 22,
   "id": "6594bc5f",
   "metadata": {},
   "outputs": [],
   "source": [
    "joined_data_county_gdf['ethnicity_hispanic_latino'] = joined_data_county_gdf['ethnicity'].apply(classify_not_hispanic_latino)\n",
    "columns_received_encoding.append('ethnicity')"
   ]
  },
  {
   "cell_type": "markdown",
   "id": "83b9b9ba",
   "metadata": {},
   "source": [
    "Pre-process race column."
   ]
  },
  {
   "cell_type": "code",
   "execution_count": 23,
   "id": "02bd03bc",
   "metadata": {},
   "outputs": [
    {
     "data": {
      "text/plain": [
       "race\n",
       "White                                                       9869\n",
       "Black or African American                                    802\n",
       "Black                                                        785\n",
       "Unknown                                                       60\n",
       "Other                                                         52\n",
       "Asian Indian                                                  25\n",
       "Asian, Other                                                  22\n",
       "Other Asian                                                   12\n",
       "Other (Specify)                                               12\n",
       "Asian/Indian                                                   5\n",
       "Asian                                                          2\n",
       "white                                                          2\n",
       "Chinese                                                        2\n",
       "Korean                                                         1\n",
       "American Indian or Alaska Native                               1\n",
       "Native American, Other                                         1\n",
       "Hawaiian                                                       1\n",
       "Other Asian (Specify)                                          1\n",
       "Other (Specify) portugese, Cape Verdean                        1\n",
       "Other (Specify) Puerto Rican                                   1\n",
       "Other (Specify) Haitian                                        1\n",
       "Black or African American / American Indian Lenni Lenape       1\n",
       "Name: count, dtype: int64"
      ]
     },
     "execution_count": 23,
     "metadata": {},
     "output_type": "execute_result"
    }
   ],
   "source": [
    "joined_data_county_gdf['race'].value_counts()"
   ]
  },
  {
   "cell_type": "code",
   "execution_count": 24,
   "id": "07b58c34",
   "metadata": {},
   "outputs": [],
   "source": [
    "def consolidate_race(race):\n",
    "    if not isinstance(race, str):\n",
    "        return 'Other'\n",
    "    if 'white'.lower() in race.lower():\n",
    "        return 'White'\n",
    "    if 'black'.lower() in race.lower():\n",
    "        return 'Black'\n",
    "    if ('asian'.lower() in race.lower()) or ('chinese'.lower() in race.lower()) or ('korean'.lower() in race.lower()):\n",
    "        return 'Asian'\n",
    "    else:\n",
    "        return 'Other'"
   ]
  },
  {
   "cell_type": "code",
   "execution_count": 25,
   "id": "c22e5071",
   "metadata": {},
   "outputs": [],
   "source": [
    "joined_data_county_gdf['race'] = joined_data_county_gdf['race'].apply(consolidate_race)"
   ]
  },
  {
   "cell_type": "code",
   "execution_count": 26,
   "id": "4052ce0a",
   "metadata": {},
   "outputs": [],
   "source": [
    "joined_data_county_gdf = pd.get_dummies(joined_data_county_gdf, columns=['race'], prefix='race', dtype=int)"
   ]
  },
  {
   "cell_type": "markdown",
   "id": "04df7562",
   "metadata": {},
   "source": [
    "Pre-process death_day_of_week column. I chose to use one-hot encoding to prevent models from assuming an implicit order between days. A disadvantage is that there is a loss of cyclic information.\n",
    "\n",
    "**Note**: An alternative I considered was using cyclic encoding with sin and cos with a period of 7 steps.\n",
    "e.g: sin_day = sin($2\\pi$ * day_number/7), cos_day = cos($2\\pi$ * day_number/7)"
   ]
  },
  {
   "cell_type": "code",
   "execution_count": 27,
   "id": "e50a54e9",
   "metadata": {},
   "outputs": [],
   "source": [
    "joined_data_county_gdf = pd.get_dummies(joined_data_county_gdf, columns=['death_day_of_week'], prefix='day_of_week', dtype=int)"
   ]
  },
  {
   "cell_type": "markdown",
   "id": "475d7716",
   "metadata": {},
   "source": [
    "Pre-process death_day_is_weekend column."
   ]
  },
  {
   "cell_type": "code",
   "execution_count": 28,
   "id": "c11a7b96",
   "metadata": {},
   "outputs": [],
   "source": [
    "joined_data_county_gdf['death_day_is_weekend'] = joined_data_county_gdf['death_day_is_weekend'].astype(int)"
   ]
  },
  {
   "cell_type": "markdown",
   "id": "c6e11b73",
   "metadata": {},
   "source": [
    "Re-order feature and target columns."
   ]
  },
  {
   "cell_type": "code",
   "execution_count": 29,
   "id": "d0a9234f",
   "metadata": {},
   "outputs": [],
   "source": [
    "first_target_col_index = joined_data_county_gdf.columns.get_loc('heroin')\n",
    "last_target_col_index = joined_data_county_gdf.columns.get_loc('anyopioid')\n",
    "target_cols = joined_data_county_gdf.columns[first_target_col_index:last_target_col_index+1]\n",
    "target_df = joined_data_county_gdf[target_cols]\n",
    "feature_df = joined_data_county_gdf.drop(columns=target_cols)"
   ]
  },
  {
   "cell_type": "code",
   "execution_count": 30,
   "id": "ffac9f54",
   "metadata": {},
   "outputs": [],
   "source": [
    "# target_df['other_opioid'].value_counts()\n",
    "# this column is a mix of Y for yes and free text - let's remove this\n",
    "target_df = target_df.drop(columns=['other_opioid'])\n",
    "target_df = ~target_df.isnull()\n",
    "target_df = target_df.astype(int)"
   ]
  },
  {
   "cell_type": "code",
   "execution_count": 32,
   "id": "cb725a0d",
   "metadata": {},
   "outputs": [],
   "source": [
    "# I did this in case we needed one df where features and targets were both present, but it doesn't seem to be needed\n",
    "# ordered_col_data = pd.concat([feature_df, target_df], axis=1)\n",
    "# ordered_col_data = ordered_col_data.drop(columns=columns_received_encoding)"
   ]
  },
  {
   "cell_type": "code",
   "execution_count": 33,
   "id": "1be1d421",
   "metadata": {},
   "outputs": [],
   "source": [
    "reference_date = pd.Timestamp('2012-01-01')\n",
    "feature_df['days_since_reference'] = (feature_df['date'] - reference_date).dt.days\n",
    "columns_received_encoding.append('date')"
   ]
  },
  {
   "cell_type": "code",
   "execution_count": 34,
   "id": "61c15913",
   "metadata": {},
   "outputs": [],
   "source": [
    "from sklearn.preprocessing import MinMaxScaler\n",
    "\n",
    "minmax_scaler = MinMaxScaler()\n",
    "columns_to_scale = ['age', 'lat', 'lon', 'death_year', 'days_since_reference']\n",
    "feature_df[columns_to_scale] = minmax_scaler.fit_transform(feature_df[columns_to_scale])"
   ]
  },
  {
   "cell_type": "code",
   "execution_count": 35,
   "id": "34c5cb20",
   "metadata": {},
   "outputs": [],
   "source": [
    "# drop feature columns that aren't machine-readable\n",
    "feature_df = feature_df.drop(columns=columns_received_encoding)\n",
    "feature_df = feature_df.drop(columns=['death_day', 'death_month_num', 'death_day_week_of_year'])\n",
    "feature_df = feature_df.fillna(0)"
   ]
  },
  {
   "cell_type": "code",
   "execution_count": 36,
   "id": "62994cc9",
   "metadata": {},
   "outputs": [],
   "source": [
    "# print(f\"total columns: {len(ordered_col_data.columns)}\")\n",
    "# numeric_df = ordered_col_data.select_dtypes(include=np.number)\n",
    "# print(f\"total numeric columns: {len(numeric_df.columns)}\")"
   ]
  },
  {
   "cell_type": "markdown",
   "id": "38f99a34",
   "metadata": {},
   "source": [
    "## Fit the Model <a class=\"anchor\" id=\"fit-model\"></a>"
   ]
  },
  {
   "cell_type": "code",
   "execution_count": 37,
   "id": "b2ee2172",
   "metadata": {},
   "outputs": [
    {
     "name": "stdout",
     "output_type": "stream",
     "text": [
      "Hamming Loss: 0.11544011544011544\n",
      "Accuracy Score: 0.09376786735277301\n"
     ]
    }
   ],
   "source": [
    "from sklearn.model_selection import train_test_split\n",
    "from skmultilearn.problem_transform import BinaryRelevance\n",
    "from sklearn.naive_bayes import MultinomialNB\n",
    "from sklearn.metrics import hamming_loss, accuracy_score, precision_score, recall_score, f1_score, roc_auc_score, confusion_matrix\n",
    "\n",
    "\n",
    "X_train, X_test, Y_train, Y_test = train_test_split(feature_df.values, target_df.values, test_size=0.30, random_state=3008)\n",
    "\n",
    "model = BinaryRelevance(classifier=MultinomialNB(), require_dense=[True, True])\n",
    "\n",
    "model.fit(X_train, Y_train)\n",
    "\n",
    "predictions = model.predict(X_test)\n",
    "predicted_array = predictions.toarray()\n",
    "\n",
    "hl = hamming_loss(Y_test, predicted_array)\n",
    "print(f\"Hamming Loss: {hl}\")\n",
    "\n",
    "ascore = accuracy_score(Y_test, predicted_array)\n",
    "print(f\"Accuracy Score: {ascore}\")"
   ]
  },
  {
   "cell_type": "markdown",
   "id": "682cc65c",
   "metadata": {},
   "source": [
    "These metrics are not good. Let's try a simpler classification model using just one target. I chose heroin as the target to predict."
   ]
  },
  {
   "cell_type": "markdown",
   "id": "1836df24",
   "metadata": {},
   "source": [
    "## Single Target Classifier <a class=\"anchor\" id=\"single-class\"></a>"
   ]
  },
  {
   "cell_type": "markdown",
   "id": "f5f6adf8",
   "metadata": {},
   "source": [
    "For our reference, the naive classifier that predicts the most common label will be used as the baseline"
   ]
  },
  {
   "cell_type": "code",
   "execution_count": 49,
   "id": "f379e0b0",
   "metadata": {},
   "outputs": [],
   "source": [
    "def calculate_score_metrics(Y_test, Y_predicted):   \n",
    "    accuracy = accuracy_score(Y_test, Y_predicted) # correct / total\n",
    "    precision = precision_score(Y_test, Y_predicted, zero_division=np.nan) # true positive / (true + false positive).       aka correctly classified actual positives / everything classified as positive\n",
    "    recall = recall_score(Y_test, Y_predicted) # true positive / (true positive + false negative).    aka correctly classified actual positives / all actual positives\n",
    "    f1 = f1_score(Y_test, Y_predicted) # 2 * Precision * Recall / (Precision + Recall).               aka harmonic mean of precision and recall\n",
    "    roc_auc = roc_auc_score(Y_test, Y_predicted) # how well classes are separated\n",
    "\n",
    "    print(f\"Accuracy Score: {accuracy}\")\n",
    "    print(f\"Precision Score: {precision}\")\n",
    "    print(f\"Recall Score: {recall}\")\n",
    "    print(f\"F1 Score: {f1}\")\n",
    "    print(f\"ROC AUC Score: {roc_auc}\")"
   ]
  },
  {
   "cell_type": "code",
   "execution_count": 51,
   "id": "a68dbccb",
   "metadata": {},
   "outputs": [
    {
     "name": "stdout",
     "output_type": "stream",
     "text": [
      "Naive Classifier\n",
      "Accuracy Score: 0.7009719839908519\n",
      "Precision Score: nan\n",
      "Recall Score: 0.0\n",
      "F1 Score: 0.0\n",
      "ROC AUC Score: 0.5\n"
     ]
    }
   ],
   "source": [
    "heroin_labels = target_df['heroin']\n",
    "\n",
    "X_train, X_test, Y_train, Y_test = train_test_split(feature_df.values, heroin_labels.values, test_size=0.30, random_state=3008)\n",
    "\n",
    "most_common_heroin_label = heroin_labels.mode()[0]\n",
    "naive_predictions = np.full(Y_test.size, most_common_heroin_label)\n",
    "print(\"Naive Classifier\")\n",
    "calculate_score_metrics(Y_test, naive_predictions)"
   ]
  },
  {
   "cell_type": "code",
   "execution_count": 52,
   "id": "20654426",
   "metadata": {},
   "outputs": [
    {
     "name": "stdout",
     "output_type": "stream",
     "text": [
      "Random Forest Classifier for heroin as cause of death\n",
      "Accuracy Score: 0.73642081189251\n",
      "Precision Score: 0.5759803921568627\n",
      "Recall Score: 0.44933078393881454\n",
      "F1 Score: 0.5048335123523093\n",
      "ROC AUC Score: 0.6541107427035019\n"
     ]
    }
   ],
   "source": [
    "from sklearn.ensemble import RandomForestClassifier\n",
    "\n",
    "random_forest_model = RandomForestClassifier(random_state=3009)\n",
    "random_forest_model.fit(X_train, Y_train)\n",
    "\n",
    "rf_pred = random_forest_model.predict(X_test)\n",
    "\n",
    "print(\"Random Forest Classifier for heroin as cause of death\")\n",
    "calculate_score_metrics(Y_test, rf_pred)"
   ]
  },
  {
   "cell_type": "code",
   "execution_count": 53,
   "id": "a12bd121",
   "metadata": {},
   "outputs": [
    {
     "name": "stdout",
     "output_type": "stream",
     "text": [
      "KNN Classifier (N=5) for heroin as cause of death\n",
      "Accuracy Score: 0.710691823899371\n",
      "Precision Score: 0.5213032581453634\n",
      "Recall Score: 0.3977055449330784\n",
      "F1 Score: 0.4511930585683297\n",
      "ROC AUC Score: 0.620957177034239\n"
     ]
    }
   ],
   "source": [
    "from sklearn.neighbors import KNeighborsClassifier\n",
    "knn_model = KNeighborsClassifier(n_neighbors=5)\n",
    "knn_model.fit(X_train, Y_train)\n",
    "\n",
    "knn_predicted = knn_model.predict(X_test)\n",
    "\n",
    "print(\"KNN Classifier (N=5) for heroin as cause of death\")\n",
    "calculate_score_metrics(Y_test, knn_predicted)"
   ]
  },
  {
   "cell_type": "code",
   "execution_count": 55,
   "id": "7ae13dab",
   "metadata": {},
   "outputs": [
    {
     "name": "stdout",
     "output_type": "stream",
     "text": [
      "Logistic Regression Classifier for heroin as cause of death\n",
      "Accuracy Score: 0.7198399085191538\n",
      "Precision Score: 0.5522151898734177\n",
      "Recall Score: 0.33365200764818354\n",
      "F1 Score: 0.4159713945172825\n",
      "ROC AUC Score: 0.6091180103493772\n"
     ]
    }
   ],
   "source": [
    "from sklearn.linear_model import LogisticRegression\n",
    "\n",
    "logistic_regression_model = LogisticRegression()\n",
    "logistic_regression_model.fit(X_train, Y_train)\n",
    "\n",
    "log_reg_predicted = logistic_regression_model.predict(X_test)\n",
    "\n",
    "print(\"Logistic Regression Classifier for heroin as cause of death\")\n",
    "calculate_score_metrics(Y_test, log_reg_predicted)"
   ]
  },
  {
   "cell_type": "code",
   "execution_count": null,
   "id": "53632942",
   "metadata": {},
   "outputs": [],
   "source": []
  }
 ],
 "metadata": {
  "kernelspec": {
   "display_name": "OD_Analytics",
   "language": "python",
   "name": "python3"
  },
  "language_info": {
   "codemirror_mode": {
    "name": "ipython",
    "version": 3
   },
   "file_extension": ".py",
   "mimetype": "text/x-python",
   "name": "python",
   "nbconvert_exporter": "python",
   "pygments_lexer": "ipython3",
   "version": "3.10.16"
  }
 },
 "nbformat": 4,
 "nbformat_minor": 5
}
